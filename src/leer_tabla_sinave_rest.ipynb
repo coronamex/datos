{
 "cells": [
  {
   "cell_type": "code",
   "execution_count": null,
   "metadata": {},
   "outputs": [],
   "source": [
    "import crear_tabla_de_casos as dge\n",
    "import camelot\n",
    "import pandas as pd\n",
    "import shutil"
   ]
  },
  {
   "cell_type": "code",
   "execution_count": null,
   "metadata": {},
   "outputs": [],
   "source": [
    "archivo = \"../sinave/2020/13/sem13.pdf\"\n",
    "inicio = 22"
   ]
  },
  {
   "cell_type": "code",
   "execution_count": null,
   "metadata": {},
   "outputs": [],
   "source": [
    "def leer_sinave_tab(archivo, pagina,\n",
    "                    lineas_saltar = 6,\n",
    "                    columnas = ['estado',\n",
    "                                'IRA_nuevos', 'IRA_acum_M', 'IRA_acum_F',\n",
    "                                     'IRA_acum_previo',\n",
    "                                     'neum_nuevos', 'neum_acum_M', 'neum_acum_F',\n",
    "                                     'neum_acum_previo',\n",
    "                                     'covid19_nuevos', 'covid19_acum_M','covid19_acum_F']):\n",
    "    \n",
    "    \n",
    "    \n",
    "    archivos = dge.dividir_paginas_pdf(archivo=archivo, tempdir = \"./tempdir/\")\n",
    "    tab = camelot.read_pdf(archivos[pagina - 1], pages='all', flavor='stream')\n",
    "    tab = tab[0].df\n",
    "    \n",
    "    tab = tab.drop(range(lineas_saltar))\n",
    "    tab = tab.drop(tab.index[32:])\n",
    "    tab.columns = columnas[0:tab.shape[1]]\n",
    "    \n",
    "    tab_numerica = tab.iloc[:,[0]].copy()\n",
    "    for i in range(1, tab.shape[1]):\n",
    "        vals = [pd.to_numeric(n.replace(' ', '').replace('-', '0')) for n in tab.iloc[:,i]]\n",
    "        tab_numerica[tab.columns[i]] = vals\n",
    "    \n",
    "    shutil.rmtree(\"./tempdir\")\n",
    "    \n",
    "    return(tab_numerica)\n",
    "\n"
   ]
  },
  {
   "cell_type": "code",
   "execution_count": null,
   "metadata": {},
   "outputs": [],
   "source": [
    "def leer_sinave_resp(archivo, inicio):\n",
    "    Tab1 = leer_sinave_tab(archivo, pagina = inicio,\n",
    "                       lineas_saltar = 7,\n",
    "                       columnas = ['estado',\n",
    "                                   'tub_nuevos', 'tub_acum_M', 'tub_acum_F',\n",
    "                                   'tub_acum_previo',\n",
    "                                   'ot_nuevos', 'ot_acum_M', 'ot_acum_F',\n",
    "                                   'ot_acum_previo',\n",
    "                                   'far_nuevos', 'far_acum_M', 'far_acum_F',\n",
    "                                   'far_acum_previo'])\n",
    "    Tab2 = leer_sinave_tab(archivo, pagina = inicio + 1,\n",
    "                          lineas_saltar = 6,\n",
    "                          columnas = ['estado',\n",
    "                                'IRA_nuevos', 'IRA_acum_M', 'IRA_acum_F',\n",
    "                                     'IRA_acum_previo',\n",
    "                                     'neum_nuevos', 'neum_acum_M', 'neum_acum_F',\n",
    "                                     'neum_acum_previo',\n",
    "                                     'covid19_nuevos', 'covid19_acum_M','covid19_acum_F'])\n",
    "    \n",
    "    Tab = pd.concat([Tab1.reset_index(), Tab2.reset_index()], axis = 1)\n",
    "    Tab = Tab.iloc[:, ~Tab.columns.duplicated()].drop(columns = ['index'])\n",
    "    \n",
    "    return Tab\n"
   ]
  },
  {
   "cell_type": "code",
   "execution_count": null,
   "metadata": {},
   "outputs": [],
   "source": [
    "Tab = "
   ]
  },
  {
   "cell_type": "code",
   "execution_count": null,
   "metadata": {},
   "outputs": [],
   "source": [
    "Tab1 = leer_sinave_tab(archivo, pagina = 22,\n",
    "                       lineas_saltar = 7,\n",
    "                       columnas = ['estado',\n",
    "                                   'tub_nuevos', 'tub_acum_M', 'tub_acum_F',\n",
    "                                   'tub_acum_previo',\n",
    "                                   'ot_nuevos', 'ot_acum_M', 'ot_acum_F',\n",
    "                                   'ot_acum_previo',\n",
    "                                   'far_nuevos', 'far_acum_M', 'far_acum_F',\n",
    "                                   'far_acum_previo'])\n",
    "Tab2 = leer_sinave_tab(archivo, pagina = 23)"
   ]
  },
  {
   "cell_type": "code",
   "execution_count": null,
   "metadata": {},
   "outputs": [],
   "source": [
    "Tab = pd.concat([Tab1.reset_index(), Tab2.reset_index()], axis = 1)\n",
    "Tab"
   ]
  },
  {
   "cell_type": "code",
   "execution_count": null,
   "metadata": {},
   "outputs": [],
   "source": [
    "Tab = Tab.iloc[:, ~Tab.columns.duplicated()].drop(columns = ['index'])\n",
    "Tab"
   ]
  },
  {
   "cell_type": "code",
   "execution_count": null,
   "metadata": {},
   "outputs": [],
   "source": []
  },
  {
   "cell_type": "code",
   "execution_count": null,
   "metadata": {},
   "outputs": [],
   "source": []
  }
 ],
 "metadata": {
  "kernelspec": {
   "display_name": "Python 3",
   "language": "python",
   "name": "python3"
  },
  "language_info": {
   "codemirror_mode": {
    "name": "ipython",
    "version": 3
   },
   "file_extension": ".py",
   "mimetype": "text/x-python",
   "name": "python",
   "nbconvert_exporter": "python",
   "pygments_lexer": "ipython3",
   "version": "3.7.3"
  }
 },
 "nbformat": 4,
 "nbformat_minor": 2
}
