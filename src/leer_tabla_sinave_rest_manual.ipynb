{
 "cells": [
  {
   "cell_type": "code",
   "execution_count": 9,
   "metadata": {},
   "outputs": [],
   "source": [
    "import crear_tabla_de_casos as dge\n",
    "import crear_tabla_sinave_resp as sinave\n",
    "import camelot\n",
    "import pandas as pd\n",
    "import shutil"
   ]
  },
  {
   "cell_type": "code",
   "execution_count": 14,
   "metadata": {},
   "outputs": [],
   "source": [
    "archivo = \"../sinave/2020/10/sem10.pdf\"\n",
    "salida = \"../sinave/2020/10/sinave_resp.csv\"\n",
    "inicio = 22\n",
    "\n",
    "archivo = \"../sinave/2020/9/sem09.pdf\"\n",
    "salida = \"../sinave/2020/9/sinave_resp.csv\"\n",
    "inicio = 22\n",
    "\n",
    "archivo = \"../sinave/2020/8/sem08.pdf\"\n",
    "salida = \"../sinave/2020/8/sinave_resp.csv\"\n",
    "inicio = 22"
   ]
  },
  {
   "cell_type": "code",
   "execution_count": 15,
   "metadata": {},
   "outputs": [],
   "source": [
    "Tab1 = sinave.leer_sinave_tab(archivo, pagina = inicio,\n",
    "                       lineas_saltar = 7,\n",
    "                       columnas = ['estado',\n",
    "                                   'tub_nuevos', 'tub_acum_M', 'tub_acum_F',\n",
    "                                   'tub_acum_previo',\n",
    "                                   'ot_nuevos', 'ot_acum_M', 'ot_acum_F',\n",
    "                                   'ot_acum_previo',\n",
    "                                   'far_nuevos', 'far_acum_M', 'far_acum_F',\n",
    "                                   'far_acum_previo'])\n",
    "Tab2 = sinave.leer_sinave_tab(archivo, pagina=inicio+1,\n",
    "                       lineas_saltar=6,\n",
    "                       columnas=['estado',\n",
    "                                 'IRA_nuevos', 'IRA_acum_M', 'IRA_acum_F',\n",
    "                                 'IRA_acum_previo',\n",
    "                                 'neum_nuevos', 'neum_acum_M',\n",
    "                                 'neum_acum_F',\n",
    "                                 'neum_acum_previo',\n",
    "                                 'covid19_nuevos','dummy1', 'covid19_acum_M',\n",
    "                                 'dummy2',\n",
    "                                 'covid19_acum_F'],\n",
    "                             eliminar = ['dummy1', 'dummy2'])\n"
   ]
  },
  {
   "cell_type": "code",
   "execution_count": 16,
   "metadata": {},
   "outputs": [],
   "source": [
    "Tab = pd.concat([Tab1.reset_index(), Tab2.reset_index()], axis=1)\n",
    "Tab = Tab.iloc[:, ~Tab.columns.duplicated()].drop(columns=['index'])"
   ]
  },
  {
   "cell_type": "code",
   "execution_count": 17,
   "metadata": {},
   "outputs": [],
   "source": [
    "Tab.to_csv(salida, sep=\",\", index=False, na_rep=\"NA\")"
   ]
  },
  {
   "cell_type": "code",
   "execution_count": null,
   "metadata": {},
   "outputs": [],
   "source": []
  },
  {
   "cell_type": "code",
   "execution_count": null,
   "metadata": {},
   "outputs": [],
   "source": []
  }
 ],
 "metadata": {
  "kernelspec": {
   "display_name": "Python 3",
   "language": "python",
   "name": "python3"
  },
  "language_info": {
   "codemirror_mode": {
    "name": "ipython",
    "version": 3
   },
   "file_extension": ".py",
   "mimetype": "text/x-python",
   "name": "python",
   "nbconvert_exporter": "python",
   "pygments_lexer": "ipython3",
   "version": "3.7.3"
  }
 },
 "nbformat": 4,
 "nbformat_minor": 2
}
