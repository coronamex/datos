{
 "cells": [
  {
   "cell_type": "code",
   "execution_count": 1,
   "metadata": {},
   "outputs": [],
   "source": [
    "import pandas as pd"
   ]
  },
  {
   "cell_type": "code",
   "execution_count": 2,
   "metadata": {},
   "outputs": [],
   "source": [
    "archivo_origen = \"../../../datos_covid19.mx/data/covid19_cases_17marzo.csv\"\n",
    "archivo_destino = \"../../ssa_dge/2020-03-17/tabla_casos_confirmados.csv\""
   ]
  },
  {
   "cell_type": "code",
   "execution_count": 6,
   "metadata": {},
   "outputs": [],
   "source": [
    "tab = pd.read_csv(archivo_origen)\n",
    "tab = tab.drop(columns=['Caso', 'Confirmación'])\n",
    "tab.columns = ['estado', 'sexo', 'edad', 'fecha_sintomas', 'procedencia', 'fecha_llegada']\n",
    "tab.to_csv(archivo_destino, index=False)"
   ]
  }
 ],
 "metadata": {
  "kernelspec": {
   "display_name": "Python 3",
   "language": "python",
   "name": "python3"
  },
  "language_info": {
   "codemirror_mode": {
    "name": "ipython",
    "version": 3
   },
   "file_extension": ".py",
   "mimetype": "text/x-python",
   "name": "python",
   "nbconvert_exporter": "python",
   "pygments_lexer": "ipython3",
   "version": "3.7.3"
  }
 },
 "nbformat": 4,
 "nbformat_minor": 2
}
